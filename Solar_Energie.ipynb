{
 "cells": [
  {
   "cell_type": "markdown",
   "id": "global-image",
   "metadata": {},
   "source": [
    "<img src=\"erneuerbare-energien.jpg\" width=\"600\" align=\"center\"/>\n",
    "\n",
    "\n",
    "## Solar-Energie-Produktion\n",
    "\n",
    "Willkommen zum Solar Energy Production Projekt. Ich werde Daten von [Kaggle](https://www.kaggle.com/datasets/ivnlee/solar-energy-production) analysieren.\n",
    "\n",
    "\n"
   ]
  },
  {
   "cell_type": "markdown",
   "id": "answering-swift",
   "metadata": {},
   "source": [
    "###### Import die Bibliothke"
   ]
  },
  {
   "cell_type": "code",
   "execution_count": 1,
   "id": "ordinary-mechanism",
   "metadata": {},
   "outputs": [],
   "source": [
    "import pandas as pd\n",
    "import numpy as np\n",
    "import matplotlib.pyplot as plt\n",
    "import seaborn as sns\n",
    "#pd.set_option('max_columns', 200)"
   ]
  },
  {
   "cell_type": "markdown",
   "id": "coral-cartoon",
   "metadata": {},
   "source": [
    "**Lade die `Solar_Energy_Production.csv` mit `read_csv` in einen DataFrame namens \"solar_df\".**"
   ]
  },
  {
   "cell_type": "code",
   "execution_count": 2,
   "id": "tutorial-optimum",
   "metadata": {},
   "outputs": [],
   "source": [
    "solar_df = pd.read_csv('Solar_Energy_Production.csv') "
   ]
  },
  {
   "cell_type": "markdown",
   "id": "dedicated-reality",
   "metadata": {},
   "source": [
    "**Unsere Datei besteht aus 258423 'Zeilen' und 8 'Spalten'.**"
   ]
  },
  {
   "cell_type": "code",
   "execution_count": 3,
   "id": "planned-cylinder",
   "metadata": {},
   "outputs": [
    {
     "data": {
      "text/plain": [
       "(258423, 8)"
      ]
     },
     "execution_count": 3,
     "metadata": {},
     "output_type": "execute_result"
    }
   ],
   "source": [
    "solar_df.shape"
   ]
  },
  {
   "cell_type": "markdown",
   "id": "intense-spencer",
   "metadata": {},
   "source": [
    "**Schauen wir den `head` des DataFrame an.**"
   ]
  },
  {
   "cell_type": "code",
   "execution_count": 4,
   "id": "clear-exhaust",
   "metadata": {},
   "outputs": [
    {
     "data": {
      "text/html": [
       "<div>\n",
       "<style scoped>\n",
       "    .dataframe tbody tr th:only-of-type {\n",
       "        vertical-align: middle;\n",
       "    }\n",
       "\n",
       "    .dataframe tbody tr th {\n",
       "        vertical-align: top;\n",
       "    }\n",
       "\n",
       "    .dataframe thead th {\n",
       "        text-align: right;\n",
       "    }\n",
       "</style>\n",
       "<table border=\"1\" class=\"dataframe\">\n",
       "  <thead>\n",
       "    <tr style=\"text-align: right;\">\n",
       "      <th></th>\n",
       "      <th>name</th>\n",
       "      <th>id</th>\n",
       "      <th>address</th>\n",
       "      <th>date</th>\n",
       "      <th>kWh</th>\n",
       "      <th>public_url</th>\n",
       "      <th>installationDate</th>\n",
       "      <th>uid</th>\n",
       "    </tr>\n",
       "  </thead>\n",
       "  <tbody>\n",
       "    <tr>\n",
       "      <th>0</th>\n",
       "      <td>Calgary Fire Hall Headquarters</td>\n",
       "      <td>314106</td>\n",
       "      <td>1212 42 AV SE</td>\n",
       "      <td>2017/09/11 08:00:00 AM</td>\n",
       "      <td>1.130</td>\n",
       "      <td>https://monitoring.solaredge.com/solaredge-web...</td>\n",
       "      <td>2016/11/07</td>\n",
       "      <td>3141062017-09-11 08:00:00</td>\n",
       "    </tr>\n",
       "    <tr>\n",
       "      <th>1</th>\n",
       "      <td>Calgary Fire Hall Headquarters</td>\n",
       "      <td>314106</td>\n",
       "      <td>1212 42 AV SE</td>\n",
       "      <td>2017/09/11 09:00:00 AM</td>\n",
       "      <td>2.340</td>\n",
       "      <td>https://monitoring.solaredge.com/solaredge-web...</td>\n",
       "      <td>2016/11/07</td>\n",
       "      <td>3141062017-09-11 09:00:00</td>\n",
       "    </tr>\n",
       "    <tr>\n",
       "      <th>2</th>\n",
       "      <td>Calgary Fire Hall Headquarters</td>\n",
       "      <td>314106</td>\n",
       "      <td>1212 42 AV SE</td>\n",
       "      <td>2017/09/11 10:00:00 AM</td>\n",
       "      <td>3.656</td>\n",
       "      <td>https://monitoring.solaredge.com/solaredge-web...</td>\n",
       "      <td>2016/11/07</td>\n",
       "      <td>3141062017-09-11 10:00:00</td>\n",
       "    </tr>\n",
       "    <tr>\n",
       "      <th>3</th>\n",
       "      <td>Calgary Fire Hall Headquarters</td>\n",
       "      <td>314106</td>\n",
       "      <td>1212 42 AV SE</td>\n",
       "      <td>2017/09/11 11:00:00 AM</td>\n",
       "      <td>4.577</td>\n",
       "      <td>https://monitoring.solaredge.com/solaredge-web...</td>\n",
       "      <td>2016/11/07</td>\n",
       "      <td>3141062017-09-11 11:00:00</td>\n",
       "    </tr>\n",
       "    <tr>\n",
       "      <th>4</th>\n",
       "      <td>Calgary Fire Hall Headquarters</td>\n",
       "      <td>314106</td>\n",
       "      <td>1212 42 AV SE</td>\n",
       "      <td>2017/09/11 12:00:00 PM</td>\n",
       "      <td>6.506</td>\n",
       "      <td>https://monitoring.solaredge.com/solaredge-web...</td>\n",
       "      <td>2016/11/07</td>\n",
       "      <td>3141062017-09-11 12:00:00</td>\n",
       "    </tr>\n",
       "  </tbody>\n",
       "</table>\n",
       "</div>"
      ],
      "text/plain": [
       "                             name      id        address  \\\n",
       "0  Calgary Fire Hall Headquarters  314106  1212 42 AV SE   \n",
       "1  Calgary Fire Hall Headquarters  314106  1212 42 AV SE   \n",
       "2  Calgary Fire Hall Headquarters  314106  1212 42 AV SE   \n",
       "3  Calgary Fire Hall Headquarters  314106  1212 42 AV SE   \n",
       "4  Calgary Fire Hall Headquarters  314106  1212 42 AV SE   \n",
       "\n",
       "                     date    kWh  \\\n",
       "0  2017/09/11 08:00:00 AM  1.130   \n",
       "1  2017/09/11 09:00:00 AM  2.340   \n",
       "2  2017/09/11 10:00:00 AM  3.656   \n",
       "3  2017/09/11 11:00:00 AM  4.577   \n",
       "4  2017/09/11 12:00:00 PM  6.506   \n",
       "\n",
       "                                          public_url installationDate  \\\n",
       "0  https://monitoring.solaredge.com/solaredge-web...       2016/11/07   \n",
       "1  https://monitoring.solaredge.com/solaredge-web...       2016/11/07   \n",
       "2  https://monitoring.solaredge.com/solaredge-web...       2016/11/07   \n",
       "3  https://monitoring.solaredge.com/solaredge-web...       2016/11/07   \n",
       "4  https://monitoring.solaredge.com/solaredge-web...       2016/11/07   \n",
       "\n",
       "                         uid  \n",
       "0  3141062017-09-11 08:00:00  \n",
       "1  3141062017-09-11 09:00:00  \n",
       "2  3141062017-09-11 10:00:00  \n",
       "3  3141062017-09-11 11:00:00  \n",
       "4  3141062017-09-11 12:00:00  "
      ]
     },
     "execution_count": 4,
     "metadata": {},
     "output_type": "execute_result"
    }
   ],
   "source": [
    "solar_df.head(5)"
   ]
  },
  {
   "cell_type": "code",
   "execution_count": 5,
   "id": "structured-smart",
   "metadata": {},
   "outputs": [
    {
     "data": {
      "text/plain": [
       "Index(['name', 'id', 'address', 'date', 'kWh', 'public_url',\n",
       "       'installationDate', 'uid'],\n",
       "      dtype='object')"
      ]
     },
     "execution_count": 5,
     "metadata": {},
     "output_type": "execute_result"
    }
   ],
   "source": [
    "solar_df.columns #Gibt den Namen aller Spalten in einer Liste zurück"
   ]
  },
  {
   "cell_type": "code",
   "execution_count": 6,
   "id": "fourth-insertion",
   "metadata": {},
   "outputs": [],
   "source": [
    "solar_df = solar_df.rename(columns={\"name\": \"Name\",\n",
    "                         \"id\": \"ID\",\n",
    "                         \"address\": \"Address\",\n",
    "                         \"date\": \"Date\",\n",
    "                         \"public_url\": \"Public_url\",\n",
    "                         \"installationDate\": \"InstallationDate\",\n",
    "                         \"uid\": \"UID\"})"
   ]
  },
  {
   "cell_type": "code",
   "execution_count": 7,
   "id": "chief-dealer",
   "metadata": {},
   "outputs": [
    {
     "data": {
      "text/html": [
       "<div>\n",
       "<style scoped>\n",
       "    .dataframe tbody tr th:only-of-type {\n",
       "        vertical-align: middle;\n",
       "    }\n",
       "\n",
       "    .dataframe tbody tr th {\n",
       "        vertical-align: top;\n",
       "    }\n",
       "\n",
       "    .dataframe thead th {\n",
       "        text-align: right;\n",
       "    }\n",
       "</style>\n",
       "<table border=\"1\" class=\"dataframe\">\n",
       "  <thead>\n",
       "    <tr style=\"text-align: right;\">\n",
       "      <th></th>\n",
       "      <th>Name</th>\n",
       "      <th>ID</th>\n",
       "      <th>Address</th>\n",
       "      <th>Date</th>\n",
       "      <th>kWh</th>\n",
       "      <th>Public_url</th>\n",
       "      <th>InstallationDate</th>\n",
       "      <th>UID</th>\n",
       "    </tr>\n",
       "  </thead>\n",
       "  <tbody>\n",
       "    <tr>\n",
       "      <th>0</th>\n",
       "      <td>Calgary Fire Hall Headquarters</td>\n",
       "      <td>314106</td>\n",
       "      <td>1212 42 AV SE</td>\n",
       "      <td>2017/09/11 08:00:00 AM</td>\n",
       "      <td>1.130</td>\n",
       "      <td>https://monitoring.solaredge.com/solaredge-web...</td>\n",
       "      <td>2016/11/07</td>\n",
       "      <td>3141062017-09-11 08:00:00</td>\n",
       "    </tr>\n",
       "    <tr>\n",
       "      <th>1</th>\n",
       "      <td>Calgary Fire Hall Headquarters</td>\n",
       "      <td>314106</td>\n",
       "      <td>1212 42 AV SE</td>\n",
       "      <td>2017/09/11 09:00:00 AM</td>\n",
       "      <td>2.340</td>\n",
       "      <td>https://monitoring.solaredge.com/solaredge-web...</td>\n",
       "      <td>2016/11/07</td>\n",
       "      <td>3141062017-09-11 09:00:00</td>\n",
       "    </tr>\n",
       "    <tr>\n",
       "      <th>2</th>\n",
       "      <td>Calgary Fire Hall Headquarters</td>\n",
       "      <td>314106</td>\n",
       "      <td>1212 42 AV SE</td>\n",
       "      <td>2017/09/11 10:00:00 AM</td>\n",
       "      <td>3.656</td>\n",
       "      <td>https://monitoring.solaredge.com/solaredge-web...</td>\n",
       "      <td>2016/11/07</td>\n",
       "      <td>3141062017-09-11 10:00:00</td>\n",
       "    </tr>\n",
       "    <tr>\n",
       "      <th>3</th>\n",
       "      <td>Calgary Fire Hall Headquarters</td>\n",
       "      <td>314106</td>\n",
       "      <td>1212 42 AV SE</td>\n",
       "      <td>2017/09/11 11:00:00 AM</td>\n",
       "      <td>4.577</td>\n",
       "      <td>https://monitoring.solaredge.com/solaredge-web...</td>\n",
       "      <td>2016/11/07</td>\n",
       "      <td>3141062017-09-11 11:00:00</td>\n",
       "    </tr>\n",
       "    <tr>\n",
       "      <th>4</th>\n",
       "      <td>Calgary Fire Hall Headquarters</td>\n",
       "      <td>314106</td>\n",
       "      <td>1212 42 AV SE</td>\n",
       "      <td>2017/09/11 12:00:00 PM</td>\n",
       "      <td>6.506</td>\n",
       "      <td>https://monitoring.solaredge.com/solaredge-web...</td>\n",
       "      <td>2016/11/07</td>\n",
       "      <td>3141062017-09-11 12:00:00</td>\n",
       "    </tr>\n",
       "  </tbody>\n",
       "</table>\n",
       "</div>"
      ],
      "text/plain": [
       "                             Name      ID        Address  \\\n",
       "0  Calgary Fire Hall Headquarters  314106  1212 42 AV SE   \n",
       "1  Calgary Fire Hall Headquarters  314106  1212 42 AV SE   \n",
       "2  Calgary Fire Hall Headquarters  314106  1212 42 AV SE   \n",
       "3  Calgary Fire Hall Headquarters  314106  1212 42 AV SE   \n",
       "4  Calgary Fire Hall Headquarters  314106  1212 42 AV SE   \n",
       "\n",
       "                     Date    kWh  \\\n",
       "0  2017/09/11 08:00:00 AM  1.130   \n",
       "1  2017/09/11 09:00:00 AM  2.340   \n",
       "2  2017/09/11 10:00:00 AM  3.656   \n",
       "3  2017/09/11 11:00:00 AM  4.577   \n",
       "4  2017/09/11 12:00:00 PM  6.506   \n",
       "\n",
       "                                          Public_url InstallationDate  \\\n",
       "0  https://monitoring.solaredge.com/solaredge-web...       2016/11/07   \n",
       "1  https://monitoring.solaredge.com/solaredge-web...       2016/11/07   \n",
       "2  https://monitoring.solaredge.com/solaredge-web...       2016/11/07   \n",
       "3  https://monitoring.solaredge.com/solaredge-web...       2016/11/07   \n",
       "4  https://monitoring.solaredge.com/solaredge-web...       2016/11/07   \n",
       "\n",
       "                         UID  \n",
       "0  3141062017-09-11 08:00:00  \n",
       "1  3141062017-09-11 09:00:00  \n",
       "2  3141062017-09-11 10:00:00  \n",
       "3  3141062017-09-11 11:00:00  \n",
       "4  3141062017-09-11 12:00:00  "
      ]
     },
     "execution_count": 7,
     "metadata": {},
     "output_type": "execute_result"
    }
   ],
   "source": [
    "solar_df.head(5)"
   ]
  },
  {
   "cell_type": "code",
   "execution_count": 8,
   "id": "ceramic-remedy",
   "metadata": {},
   "outputs": [
    {
     "data": {
      "text/plain": [
       "Name                 object\n",
       "ID                    int64\n",
       "Address              object\n",
       "Date                 object\n",
       "kWh                 float64\n",
       "Public_url           object\n",
       "InstallationDate     object\n",
       "UID                  object\n",
       "dtype: object"
      ]
     },
     "execution_count": 8,
     "metadata": {},
     "output_type": "execute_result"
    }
   ],
   "source": [
    "solar_df.dtypes #Gibt die Typen jeder Spalte zurück. Gängige Typen sind: Integer, Float, String (als Object), DateTime."
   ]
  },
  {
   "cell_type": "code",
   "execution_count": 9,
   "id": "major-marketing",
   "metadata": {},
   "outputs": [
    {
     "data": {
      "text/html": [
       "<div>\n",
       "<style scoped>\n",
       "    .dataframe tbody tr th:only-of-type {\n",
       "        vertical-align: middle;\n",
       "    }\n",
       "\n",
       "    .dataframe tbody tr th {\n",
       "        vertical-align: top;\n",
       "    }\n",
       "\n",
       "    .dataframe thead th {\n",
       "        text-align: right;\n",
       "    }\n",
       "</style>\n",
       "<table border=\"1\" class=\"dataframe\">\n",
       "  <thead>\n",
       "    <tr style=\"text-align: right;\">\n",
       "      <th></th>\n",
       "      <th>ID</th>\n",
       "      <th>kWh</th>\n",
       "    </tr>\n",
       "  </thead>\n",
       "  <tbody>\n",
       "    <tr>\n",
       "      <th>count</th>\n",
       "      <td>258423.000000</td>\n",
       "      <td>258423.000000</td>\n",
       "    </tr>\n",
       "    <tr>\n",
       "      <th>mean</th>\n",
       "      <td>372581.033132</td>\n",
       "      <td>38.059762</td>\n",
       "    </tr>\n",
       "    <tr>\n",
       "      <th>std</th>\n",
       "      <td>130344.544572</td>\n",
       "      <td>71.598031</td>\n",
       "    </tr>\n",
       "    <tr>\n",
       "      <th>min</th>\n",
       "      <td>164440.000000</td>\n",
       "      <td>0.000000</td>\n",
       "    </tr>\n",
       "    <tr>\n",
       "      <th>25%</th>\n",
       "      <td>314106.000000</td>\n",
       "      <td>1.370000</td>\n",
       "    </tr>\n",
       "    <tr>\n",
       "      <th>50%</th>\n",
       "      <td>331901.000000</td>\n",
       "      <td>8.034000</td>\n",
       "    </tr>\n",
       "    <tr>\n",
       "      <th>75%</th>\n",
       "      <td>551172.000000</td>\n",
       "      <td>35.876000</td>\n",
       "    </tr>\n",
       "    <tr>\n",
       "      <th>max</th>\n",
       "      <td>594148.000000</td>\n",
       "      <td>514.462000</td>\n",
       "    </tr>\n",
       "  </tbody>\n",
       "</table>\n",
       "</div>"
      ],
      "text/plain": [
       "                  ID            kWh\n",
       "count  258423.000000  258423.000000\n",
       "mean   372581.033132      38.059762\n",
       "std    130344.544572      71.598031\n",
       "min    164440.000000       0.000000\n",
       "25%    314106.000000       1.370000\n",
       "50%    331901.000000       8.034000\n",
       "75%    551172.000000      35.876000\n",
       "max    594148.000000     514.462000"
      ]
     },
     "execution_count": 9,
     "metadata": {},
     "output_type": "execute_result"
    }
   ],
   "source": [
    "solar_df.describe() #Gibt allgemeine Statistiken wie Mittelwert, Standardabweichung usw. für jede Spalte zurück."
   ]
  },
  {
   "cell_type": "code",
   "execution_count": 10,
   "id": "quarterly-requirement",
   "metadata": {},
   "outputs": [
    {
     "data": {
      "text/plain": [
       "Name                0\n",
       "ID                  0\n",
       "Address             0\n",
       "Date                0\n",
       "kWh                 0\n",
       "Public_url          0\n",
       "InstallationDate    0\n",
       "UID                 0\n",
       "dtype: int64"
      ]
     },
     "execution_count": 10,
     "metadata": {},
     "output_type": "execute_result"
    }
   ],
   "source": [
    "solar_df.isna().sum() #Zeigt, wie viele fehlende Werte in jeder Spalte vorhanden sind"
   ]
  },
  {
   "cell_type": "code",
   "execution_count": 11,
   "id": "committed-biology",
   "metadata": {},
   "outputs": [
    {
     "data": {
      "text/plain": [
       "array(['Calgary Fire Hall Headquarters', 'Whitehorn Multi-Service Centre',\n",
       "       'Southland Leisure Centre',\n",
       "       'Hillhurst Sunnyside Community Association',\n",
       "       'Glenmore Water Treatment Plant',\n",
       "       'City of Calgary North Corporate Warehouse',\n",
       "       'Richmond - Knob Hill Community Hall', 'Manchester Building M',\n",
       "       'CFD Firehall #7', 'Telus Spark', 'Bearspaw Water Treatment Plant'],\n",
       "      dtype=object)"
      ]
     },
     "execution_count": 11,
     "metadata": {},
     "output_type": "execute_result"
    }
   ],
   "source": [
    "solar_df['Name'].unique() #Gibt eindeutige Werte zurück"
   ]
  },
  {
   "cell_type": "code",
   "execution_count": 12,
   "id": "through-volleyball",
   "metadata": {},
   "outputs": [
    {
     "data": {
      "text/plain": [
       "0         2017/09/11 08:00:00 AM\n",
       "1         2017/09/11 09:00:00 AM\n",
       "2         2017/09/11 10:00:00 AM\n",
       "3         2017/09/11 11:00:00 AM\n",
       "4         2017/09/11 12:00:00 PM\n",
       "                   ...          \n",
       "258418    2023/03/12 03:00:00 PM\n",
       "258419    2023/03/12 04:00:00 PM\n",
       "258420    2023/03/12 05:00:00 PM\n",
       "258421    2023/03/12 06:00:00 PM\n",
       "258422    2023/03/12 07:00:00 PM\n",
       "Name: Date, Length: 258423, dtype: object"
      ]
     },
     "execution_count": 12,
     "metadata": {},
     "output_type": "execute_result"
    }
   ],
   "source": [
    "solar_df['Date'] "
   ]
  },
  {
   "cell_type": "code",
   "execution_count": 13,
   "id": "arranged-portugal",
   "metadata": {},
   "outputs": [
    {
     "data": {
      "text/plain": [
       "0        2017-09-11 08:00:00\n",
       "1        2017-09-11 09:00:00\n",
       "2        2017-09-11 10:00:00\n",
       "3        2017-09-11 11:00:00\n",
       "4        2017-09-11 12:00:00\n",
       "                 ...        \n",
       "258418   2023-03-12 15:00:00\n",
       "258419   2023-03-12 16:00:00\n",
       "258420   2023-03-12 17:00:00\n",
       "258421   2023-03-12 18:00:00\n",
       "258422   2023-03-12 19:00:00\n",
       "Name: Date, Length: 258423, dtype: datetime64[ns]"
      ]
     },
     "execution_count": 13,
     "metadata": {},
     "output_type": "execute_result"
    }
   ],
   "source": [
    "solar_df['Date'] = pd.to_datetime(solar_df['Date']) #object zu Datetime\n",
    "solar_df['Date']"
   ]
  },
  {
   "cell_type": "code",
   "execution_count": 14,
   "id": "other-mechanism",
   "metadata": {},
   "outputs": [
    {
     "data": {
      "text/plain": [
       "0        2016-11-07\n",
       "1        2016-11-07\n",
       "2        2016-11-07\n",
       "3        2016-11-07\n",
       "4        2016-11-07\n",
       "            ...    \n",
       "258418   2017-10-31\n",
       "258419   2017-10-31\n",
       "258420   2017-10-31\n",
       "258421   2017-10-31\n",
       "258422   2017-10-31\n",
       "Name: InstallationDate, Length: 258423, dtype: datetime64[ns]"
      ]
     },
     "execution_count": 14,
     "metadata": {},
     "output_type": "execute_result"
    }
   ],
   "source": [
    "solar_df['InstallationDate'] = pd.to_datetime(solar_df['InstallationDate'])\n",
    "solar_df['InstallationDate']"
   ]
  },
  {
   "cell_type": "code",
   "execution_count": 15,
   "id": "stunning-scale",
   "metadata": {},
   "outputs": [
    {
     "data": {
      "text/html": [
       "<div>\n",
       "<style scoped>\n",
       "    .dataframe tbody tr th:only-of-type {\n",
       "        vertical-align: middle;\n",
       "    }\n",
       "\n",
       "    .dataframe tbody tr th {\n",
       "        vertical-align: top;\n",
       "    }\n",
       "\n",
       "    .dataframe thead th {\n",
       "        text-align: right;\n",
       "    }\n",
       "</style>\n",
       "<table border=\"1\" class=\"dataframe\">\n",
       "  <thead>\n",
       "    <tr style=\"text-align: right;\">\n",
       "      <th></th>\n",
       "      <th>kWh</th>\n",
       "    </tr>\n",
       "    <tr>\n",
       "      <th>Name</th>\n",
       "      <th></th>\n",
       "    </tr>\n",
       "  </thead>\n",
       "  <tbody>\n",
       "    <tr>\n",
       "      <th>Bearspaw Water Treatment Plant</th>\n",
       "      <td>123.955028</td>\n",
       "    </tr>\n",
       "    <tr>\n",
       "      <th>Whitehorn Multi-Service Centre</th>\n",
       "      <td>92.322215</td>\n",
       "    </tr>\n",
       "    <tr>\n",
       "      <th>Glenmore Water Treatment Plant</th>\n",
       "      <td>59.844819</td>\n",
       "    </tr>\n",
       "    <tr>\n",
       "      <th>Southland Leisure Centre</th>\n",
       "      <td>36.324585</td>\n",
       "    </tr>\n",
       "    <tr>\n",
       "      <th>City of Calgary North Corporate Warehouse</th>\n",
       "      <td>28.383458</td>\n",
       "    </tr>\n",
       "    <tr>\n",
       "      <th>Manchester Building M</th>\n",
       "      <td>8.132217</td>\n",
       "    </tr>\n",
       "    <tr>\n",
       "      <th>Hillhurst Sunnyside Community Association</th>\n",
       "      <td>7.944827</td>\n",
       "    </tr>\n",
       "    <tr>\n",
       "      <th>CFD Firehall #7</th>\n",
       "      <td>7.506107</td>\n",
       "    </tr>\n",
       "    <tr>\n",
       "      <th>Calgary Fire Hall Headquarters</th>\n",
       "      <td>4.298928</td>\n",
       "    </tr>\n",
       "    <tr>\n",
       "      <th>Telus Spark</th>\n",
       "      <td>4.210013</td>\n",
       "    </tr>\n",
       "    <tr>\n",
       "      <th>Richmond - Knob Hill Community Hall</th>\n",
       "      <td>2.822007</td>\n",
       "    </tr>\n",
       "  </tbody>\n",
       "</table>\n",
       "</div>"
      ],
      "text/plain": [
       "                                                  kWh\n",
       "Name                                                 \n",
       "Bearspaw Water Treatment Plant             123.955028\n",
       "Whitehorn Multi-Service Centre              92.322215\n",
       "Glenmore Water Treatment Plant              59.844819\n",
       "Southland Leisure Centre                    36.324585\n",
       "City of Calgary North Corporate Warehouse   28.383458\n",
       "Manchester Building M                        8.132217\n",
       "Hillhurst Sunnyside Community Association    7.944827\n",
       "CFD Firehall #7                              7.506107\n",
       "Calgary Fire Hall Headquarters               4.298928\n",
       "Telus Spark                                  4.210013\n",
       "Richmond - Knob Hill Community Hall          2.822007"
      ]
     },
     "execution_count": 15,
     "metadata": {},
     "output_type": "execute_result"
    }
   ],
   "source": [
    "sortiert_werte= solar_df.groupby('Name')['kWh'].mean().sort_values(ascending=False) \n",
    "#Durchschnittlich Solarstromerzeugung pro Standort\n",
    "\n",
    "standort_durchschnitt = pd.DataFrame(sortiert_werte)\n",
    "standort_durchschnitt"
   ]
  },
  {
   "cell_type": "code",
   "execution_count": 16,
   "id": "alert-substance",
   "metadata": {},
   "outputs": [
    {
     "data": {
      "text/html": [
       "<div>\n",
       "<style scoped>\n",
       "    .dataframe tbody tr th:only-of-type {\n",
       "        vertical-align: middle;\n",
       "    }\n",
       "\n",
       "    .dataframe tbody tr th {\n",
       "        vertical-align: top;\n",
       "    }\n",
       "\n",
       "    .dataframe thead th {\n",
       "        text-align: right;\n",
       "    }\n",
       "</style>\n",
       "<table border=\"1\" class=\"dataframe\">\n",
       "  <thead>\n",
       "    <tr style=\"text-align: right;\">\n",
       "      <th></th>\n",
       "      <th>kWh</th>\n",
       "    </tr>\n",
       "    <tr>\n",
       "      <th>Name</th>\n",
       "      <th></th>\n",
       "    </tr>\n",
       "  </thead>\n",
       "  <tbody>\n",
       "    <tr>\n",
       "      <th>Bearspaw Water Treatment Plant</th>\n",
       "      <td>3082637.596</td>\n",
       "    </tr>\n",
       "    <tr>\n",
       "      <th>Whitehorn Multi-Service Centre</th>\n",
       "      <td>2558802.505</td>\n",
       "    </tr>\n",
       "    <tr>\n",
       "      <th>Glenmore Water Treatment Plant</th>\n",
       "      <td>1551177.716</td>\n",
       "    </tr>\n",
       "    <tr>\n",
       "      <th>Southland Leisure Centre</th>\n",
       "      <td>1147493.626</td>\n",
       "    </tr>\n",
       "    <tr>\n",
       "      <th>City of Calgary North Corporate Warehouse</th>\n",
       "      <td>768964.640</td>\n",
       "    </tr>\n",
       "    <tr>\n",
       "      <th>Hillhurst Sunnyside Community Association</th>\n",
       "      <td>186441.264</td>\n",
       "    </tr>\n",
       "    <tr>\n",
       "      <th>Manchester Building M</th>\n",
       "      <td>183243.243</td>\n",
       "    </tr>\n",
       "    <tr>\n",
       "      <th>CFD Firehall #7</th>\n",
       "      <td>170080.887</td>\n",
       "    </tr>\n",
       "    <tr>\n",
       "      <th>Calgary Fire Hall Headquarters</th>\n",
       "      <td>110211.611</td>\n",
       "    </tr>\n",
       "    <tr>\n",
       "      <th>Richmond - Knob Hill Community Hall</th>\n",
       "      <td>75130.282</td>\n",
       "    </tr>\n",
       "    <tr>\n",
       "      <th>Telus Spark</th>\n",
       "      <td>1334.574</td>\n",
       "    </tr>\n",
       "  </tbody>\n",
       "</table>\n",
       "</div>"
      ],
      "text/plain": [
       "                                                   kWh\n",
       "Name                                                  \n",
       "Bearspaw Water Treatment Plant             3082637.596\n",
       "Whitehorn Multi-Service Centre             2558802.505\n",
       "Glenmore Water Treatment Plant             1551177.716\n",
       "Southland Leisure Centre                   1147493.626\n",
       "City of Calgary North Corporate Warehouse   768964.640\n",
       "Hillhurst Sunnyside Community Association   186441.264\n",
       "Manchester Building M                       183243.243\n",
       "CFD Firehall #7                             170080.887\n",
       "Calgary Fire Hall Headquarters              110211.611\n",
       "Richmond - Knob Hill Community Hall          75130.282\n",
       "Telus Spark                                   1334.574"
      ]
     },
     "execution_count": 16,
     "metadata": {},
     "output_type": "execute_result"
    }
   ],
   "source": [
    "sortiert_werte= solar_df.groupby('Name')['kWh'].sum().sort_values(ascending=False)\n",
    "\n",
    "standort_gesamt = pd.DataFrame(sortiert_werte)\n",
    "standort_gesamt"
   ]
  },
  {
   "cell_type": "code",
   "execution_count": 17,
   "id": "durable-development",
   "metadata": {},
   "outputs": [
    {
     "data": {
      "text/plain": [
       "Name                        object\n",
       "ID                           int64\n",
       "Address                     object\n",
       "Date                datetime64[ns]\n",
       "kWh                        float64\n",
       "Public_url                  object\n",
       "InstallationDate    datetime64[ns]\n",
       "UID                         object\n",
       "dtype: object"
      ]
     },
     "execution_count": 17,
     "metadata": {},
     "output_type": "execute_result"
    }
   ],
   "source": [
    "solar_df.dtypes"
   ]
  },
  {
   "cell_type": "code",
   "execution_count": 18,
   "id": "complicated-george",
   "metadata": {},
   "outputs": [
    {
     "data": {
      "image/png": "[encoded data removed]",
      "text/plain": [
       "<Figure size 720x288 with 1 Axes>"
      ]
     },
     "metadata": {
      "needs_background": "light"
     },
     "output_type": "display_data"
    }
   ],
   "source": [
    "standort_gesamt = solar_df.groupby('Name')['kWh'].sum().sort_values(ascending=True)\n",
    "\n",
    "standort_gesamt.plot(figsize=(10, 4), kind='barh', legend=False)\n",
    "plt.title('Solarstromerzeugung pro Standort [September 2015 to März 2023]',fontdict={'color': 'green'},\n",
    "          fontsize=14,pad=8,fontstyle='italic')\n",
    "plt.xlabel('GigaWatt-Stunden',fontdict={'color': 'green'},fontsize=12,labelpad=8)\n",
    "plt.ylabel('Standort',fontdict={'color': 'green'},fontsize=12,labelpad=8)\n",
    "\n",
    "plt.show()\n",
    "\n",
    "#Erzeuge ein Diagramm mit Matplotlib. Das zeigt die gesamte Solarstromerzeugung pro Standort"
   ]
  },
  {
   "cell_type": "code",
   "execution_count": 19,
   "id": "motivated-bahamas",
   "metadata": {},
   "outputs": [
    {
     "data": {
      "image/png": "[encoded data removed]",
      "text/plain": [
       "<Figure size 720x288 with 1 Axes>"
      ]
     },
     "metadata": {
      "needs_background": "light"
     },
     "output_type": "display_data"
    }
   ],
   "source": [
    "standort_durchschnitt = solar_df.groupby('Name')['kWh'].mean().sort_values(ascending=True)\n",
    "#die durchschnittliche Stromerzeugung pro Standort\n",
    "\n",
    "\n",
    "standort_durchschnitt.plot(figsize=(10,4), kind='barh')\n",
    "plt.title('Die durchschnitte Solarstromerzeugung pro Standort',fontdict={'color': 'blue'},\n",
    "          fontsize=14,pad=8,fontstyle='italic')\n",
    "plt.xlabel('GigaWatt-Stunden',fontdict={'color': 'blue'},fontsize=12,labelpad=8)\n",
    "plt.ylabel('Standort',fontdict={'color': 'blue'},fontsize=12,labelpad=12)\n",
    "\n",
    "plt.show()"
   ]
  },
  {
   "cell_type": "code",
   "execution_count": 20,
   "id": "quarterly-performer",
   "metadata": {},
   "outputs": [
    {
     "data": {
      "text/html": [
       "<div>\n",
       "<style scoped>\n",
       "    .dataframe tbody tr th:only-of-type {\n",
       "        vertical-align: middle;\n",
       "    }\n",
       "\n",
       "    .dataframe tbody tr th {\n",
       "        vertical-align: top;\n",
       "    }\n",
       "\n",
       "    .dataframe thead th {\n",
       "        text-align: right;\n",
       "    }\n",
       "</style>\n",
       "<table border=\"1\" class=\"dataframe\">\n",
       "  <thead>\n",
       "    <tr style=\"text-align: right;\">\n",
       "      <th></th>\n",
       "      <th>Name</th>\n",
       "      <th>ID</th>\n",
       "      <th>Address</th>\n",
       "      <th>Date</th>\n",
       "      <th>kWh</th>\n",
       "      <th>Public_url</th>\n",
       "      <th>InstallationDate</th>\n",
       "      <th>UID</th>\n",
       "    </tr>\n",
       "  </thead>\n",
       "  <tbody>\n",
       "    <tr>\n",
       "      <th>0</th>\n",
       "      <td>Calgary Fire Hall Headquarters</td>\n",
       "      <td>314106</td>\n",
       "      <td>1212 42 AV SE</td>\n",
       "      <td>2017-09-11 08:00:00</td>\n",
       "      <td>1.130</td>\n",
       "      <td>https://monitoring.solaredge.com/solaredge-web...</td>\n",
       "      <td>2016-11-07</td>\n",
       "      <td>3141062017-09-11 08:00:00</td>\n",
       "    </tr>\n",
       "    <tr>\n",
       "      <th>1</th>\n",
       "      <td>Calgary Fire Hall Headquarters</td>\n",
       "      <td>314106</td>\n",
       "      <td>1212 42 AV SE</td>\n",
       "      <td>2017-09-11 09:00:00</td>\n",
       "      <td>2.340</td>\n",
       "      <td>https://monitoring.solaredge.com/solaredge-web...</td>\n",
       "      <td>2016-11-07</td>\n",
       "      <td>3141062017-09-11 09:00:00</td>\n",
       "    </tr>\n",
       "    <tr>\n",
       "      <th>2</th>\n",
       "      <td>Calgary Fire Hall Headquarters</td>\n",
       "      <td>314106</td>\n",
       "      <td>1212 42 AV SE</td>\n",
       "      <td>2017-09-11 10:00:00</td>\n",
       "      <td>3.656</td>\n",
       "      <td>https://monitoring.solaredge.com/solaredge-web...</td>\n",
       "      <td>2016-11-07</td>\n",
       "      <td>3141062017-09-11 10:00:00</td>\n",
       "    </tr>\n",
       "    <tr>\n",
       "      <th>3</th>\n",
       "      <td>Calgary Fire Hall Headquarters</td>\n",
       "      <td>314106</td>\n",
       "      <td>1212 42 AV SE</td>\n",
       "      <td>2017-09-11 11:00:00</td>\n",
       "      <td>4.577</td>\n",
       "      <td>https://monitoring.solaredge.com/solaredge-web...</td>\n",
       "      <td>2016-11-07</td>\n",
       "      <td>3141062017-09-11 11:00:00</td>\n",
       "    </tr>\n",
       "    <tr>\n",
       "      <th>4</th>\n",
       "      <td>Calgary Fire Hall Headquarters</td>\n",
       "      <td>314106</td>\n",
       "      <td>1212 42 AV SE</td>\n",
       "      <td>2017-09-11 12:00:00</td>\n",
       "      <td>6.506</td>\n",
       "      <td>https://monitoring.solaredge.com/solaredge-web...</td>\n",
       "      <td>2016-11-07</td>\n",
       "      <td>3141062017-09-11 12:00:00</td>\n",
       "    </tr>\n",
       "  </tbody>\n",
       "</table>\n",
       "</div>"
      ],
      "text/plain": [
       "                             Name      ID        Address                Date  \\\n",
       "0  Calgary Fire Hall Headquarters  314106  1212 42 AV SE 2017-09-11 08:00:00   \n",
       "1  Calgary Fire Hall Headquarters  314106  1212 42 AV SE 2017-09-11 09:00:00   \n",
       "2  Calgary Fire Hall Headquarters  314106  1212 42 AV SE 2017-09-11 10:00:00   \n",
       "3  Calgary Fire Hall Headquarters  314106  1212 42 AV SE 2017-09-11 11:00:00   \n",
       "4  Calgary Fire Hall Headquarters  314106  1212 42 AV SE 2017-09-11 12:00:00   \n",
       "\n",
       "     kWh                                         Public_url InstallationDate  \\\n",
       "0  1.130  https://monitoring.solaredge.com/solaredge-web...       2016-11-07   \n",
       "1  2.340  https://monitoring.solaredge.com/solaredge-web...       2016-11-07   \n",
       "2  3.656  https://monitoring.solaredge.com/solaredge-web...       2016-11-07   \n",
       "3  4.577  https://monitoring.solaredge.com/solaredge-web...       2016-11-07   \n",
       "4  6.506  https://monitoring.solaredge.com/solaredge-web...       2016-11-07   \n",
       "\n",
       "                         UID  \n",
       "0  3141062017-09-11 08:00:00  \n",
       "1  3141062017-09-11 09:00:00  \n",
       "2  3141062017-09-11 10:00:00  \n",
       "3  3141062017-09-11 11:00:00  \n",
       "4  3141062017-09-11 12:00:00  "
      ]
     },
     "execution_count": 20,
     "metadata": {},
     "output_type": "execute_result"
    }
   ],
   "source": [
    "solar_df.head()"
   ]
  },
  {
   "cell_type": "code",
   "execution_count": 21,
   "id": "individual-inquiry",
   "metadata": {},
   "outputs": [
    {
     "data": {
      "text/plain": [
       "Text(0, 0.5, 'KiloWatt-Stunden')"
      ]
     },
     "execution_count": 21,
     "metadata": {},
     "output_type": "execute_result"
    },
    {
     "data": {
      "image/png": "[encoded data removed]",
      "text/plain": [
       "<Figure size 720x360 with 1 Axes>"
      ]
     },
     "metadata": {
      "needs_background": "light"
     },
     "output_type": "display_data"
    }
   ],
   "source": [
    "stunde_kWh = solar_df.groupby(solar_df['Date'].dt.hour)['kWh'].mean()\n",
    "#Stromerzeugung pro Stunde\n",
    "\n",
    "stunde_kWh.plot(figsize=(10,5),kind='bar')\n",
    "plt.title('Die durchschnitte Solarstromerzeugung per Stunde',fontdict={'color': 'blue'},fontsize=14,pad=8,fontstyle='italic')\n",
    "plt.xlabel('die Uhr',fontdict={'color': 'blue'},fontsize=12,labelpad=8)\n",
    "plt.ylabel('KiloWatt-Stunden',fontdict={'color': 'blue'},fontsize=12,labelpad=8,)"
   ]
  },
  {
   "cell_type": "code",
   "execution_count": 22,
   "id": "aerial-arrival",
   "metadata": {},
   "outputs": [
    {
     "data": {
      "text/plain": [
       "Text(0, 0.5, 'GigaWatt-Stunden')"
      ]
     },
     "execution_count": 22,
     "metadata": {},
     "output_type": "execute_result"
    },
    {
     "data": {
      "image/png": "[encoded data removed]",
      "text/plain": [
       "<Figure size 720x360 with 1 Axes>"
      ]
     },
     "metadata": {
      "needs_background": "light"
     },
     "output_type": "display_data"
    }
   ],
   "source": [
    "stunde_kWh = solar_df.groupby(solar_df['Date'].dt.hour)['kWh'].sum()\n",
    "#Stromerzeugung pro Stunde\n",
    "\n",
    "stunde_kWh.plot(figsize=(10,5),kind='bar')\n",
    "plt.title('Die gesamte Solarstromerzeugung',fontdict={'color': 'blue'},fontsize=14,pad=8,fontstyle='italic')\n",
    "plt.xlabel('die Uhr',fontdict={'color': 'blue'},fontsize=12,labelpad=8)\n",
    "plt.ylabel('GigaWatt-Stunden',fontdict={'color': 'blue'},fontsize=12,labelpad=8)"
   ]
  },
  {
   "cell_type": "code",
   "execution_count": 23,
   "id": "threatened-earth",
   "metadata": {},
   "outputs": [
    {
     "data": {
      "text/plain": [
       "array([2017, 2021, 2020, 2022, 2019, 2015, 2016, 2018, 2023], dtype=int64)"
      ]
     },
     "execution_count": 23,
     "metadata": {},
     "output_type": "execute_result"
    }
   ],
   "source": [
    "solar_df['Date'].dt.year.unique()"
   ]
  },
  {
   "cell_type": "code",
   "execution_count": 24,
   "id": "absent-adapter",
   "metadata": {},
   "outputs": [
    {
     "data": {
      "text/plain": [
       "Text(0, 0.5, 'GigaWatt-Stunden')"
      ]
     },
     "execution_count": 24,
     "metadata": {},
     "output_type": "execute_result"
    },
    {
     "data": {
      "image/png": "[encoded data removed]",
      "text/plain": [
       "<Figure size 720x360 with 1 Axes>"
      ]
     },
     "metadata": {
      "needs_background": "light"
     },
     "output_type": "display_data"
    }
   ],
   "source": [
    "stromerzeugung_year = solar_df.groupby(solar_df['Date'].dt.year)['kWh'].sum()\n",
    "#stromerzeugung per Jahr\n",
    "\n",
    "stromerzeugung_year.plot(figsize=(10,5),kind='area',color='lightblue')\n",
    "plt.title('Stromerzeugung per Jahr',fontdict={'color': 'blue'},fontsize=14,pad=8,fontstyle='italic')\n",
    "plt.xlabel('das Jahr',fontdict={'color': 'blue'},fontsize=12,labelpad=8)\n",
    "plt.ylabel('GigaWatt-Stunden',fontdict={'color': 'blue'},fontsize=12,labelpad=8,)"
   ]
  },
  {
   "cell_type": "code",
   "execution_count": 25,
   "id": "amateur-polish",
   "metadata": {},
   "outputs": [
    {
     "data": {
      "text/plain": [
       "Date\n",
       "2015    0.036570\n",
       "2016    0.166262\n",
       "2017    1.143066\n",
       "2018    1.714572\n",
       "2019    1.725009\n",
       "2020    1.765072\n",
       "2021    1.603815\n",
       "2022    1.584848\n",
       "2023    0.096304\n",
       "Name: kWh, dtype: float64"
      ]
     },
     "execution_count": 25,
     "metadata": {},
     "output_type": "execute_result"
    }
   ],
   "source": [
    "stromerzeugung_year = solar_df.groupby(solar_df['Date'].dt.year)['kWh'].sum()\n",
    "stromerzeugung_year/1000000\n",
    "\n",
    "#Stromerzeugung KiloWatt --> GigaWatt"
   ]
  },
  {
   "cell_type": "code",
   "execution_count": 26,
   "id": "general-tobacco",
   "metadata": {},
   "outputs": [
    {
     "data": {
      "image/png": "[encoded data removed]",
      "text/plain": [
       "<Figure size 432x288 with 1 Axes>"
      ]
     },
     "metadata": {},
     "output_type": "display_data"
    }
   ],
   "source": [
    "# die Verteilung der Stromerzeugung nach Standort\n",
    "\n",
    "mylabels = ['Bearspaw Water Treatment Plant', 'Whitehorn Multi-Service Centre', 'Glenmore Water Treatment Plant', \n",
    "            'Southland Leisure Centre', 'City of Calgary North Corporate Warehouse', 'andere']\n",
    "\n",
    "gesamt_stromerzeugung = [3082637.596, 2558802.505, 1551177.716, 1147493.626, 768964.640, 726441.861 ]\n",
    "\n",
    "plt.pie(gesamt_stromerzeugung, labels = mylabels, startangle = 90, autopct='%1.1f%%',\n",
    "        radius=1.5, textprops = {\"fontsize\":12})\n",
    "plt.show() "
   ]
  },
  {
   "cell_type": "code",
   "execution_count": 27,
   "id": "neural-bedroom",
   "metadata": {},
   "outputs": [
    {
     "data": {
      "text/plain": [
       "Name\n",
       "Bearspaw Water Treatment Plant               3082637.596\n",
       "Whitehorn Multi-Service Centre               2558802.505\n",
       "Glenmore Water Treatment Plant               1551177.716\n",
       "Southland Leisure Centre                     1147493.626\n",
       "City of Calgary North Corporate Warehouse     768964.640\n",
       "Hillhurst Sunnyside Community Association     186441.264\n",
       "Manchester Building M                         183243.243\n",
       "CFD Firehall #7                               170080.887\n",
       "Calgary Fire Hall Headquarters                110211.611\n",
       "Richmond - Knob Hill Community Hall            75130.282\n",
       "Telus Spark                                     1334.574\n",
       "Name: kWh, dtype: float64"
      ]
     },
     "execution_count": 27,
     "metadata": {},
     "output_type": "execute_result"
    }
   ],
   "source": [
    "y = solar_df.groupby('Name')['kWh'].sum().sort_values(ascending=False)\n",
    "y"
   ]
  },
  {
   "cell_type": "code",
   "execution_count": 28,
   "id": "printable-shepherd",
   "metadata": {},
   "outputs": [
    {
     "data": {
      "text/plain": [
       "726441.861"
      ]
     },
     "execution_count": 28,
     "metadata": {},
     "output_type": "execute_result"
    }
   ],
   "source": [
    "others = 186441.264 + 183243.243 + 170080.887 + 110211.611 + 75130.282 + 1334.574\n",
    "others"
   ]
  },
  {
   "cell_type": "code",
   "execution_count": 29,
   "id": "artistic-reception",
   "metadata": {},
   "outputs": [
    {
     "data": {
      "image/png": "[encoded data removed]",
      "text/plain": [
       "<Figure size 432x288 with 1 Axes>"
      ]
     },
     "metadata": {},
     "output_type": "display_data"
    }
   ],
   "source": [
    "# die Stromerzeugung in Bearspaw Water Treatment Plant\n",
    "# nur die 1. Scheibe \"explodieren\" (das heißt Bearspaw Water Treatment Plant)\n",
    "\n",
    "explode = (0.1, 0, 0, 0, 0, 0)\n",
    "mylabels = ['Bearspaw Water Treatment Plant', 'Whitehorn Multi-Service Centre', 'Glenmore Water Treatment Plant', \n",
    "            'Southland Leisure Centre', 'City of Calgary North Corporate Warehouse', 'andere']\n",
    "\n",
    "gesamt_stromerzeugung = [3082637.596, 2558802.505, 1551177.716, 1147493.626, 768964.640, 726441.861 ]\n",
    "\n",
    "plt.pie(gesamt_stromerzeugung, explode=explode, labels = mylabels, startangle = 90, autopct='%1.1f%%', shadow=True, \n",
    "        pctdistance=0.7, textprops = {\"fontsize\":12}, radius=1.5, wedgeprops = {\"linewidth\": 1, 'width':1, \"edgecolor\":\"k\"})\n",
    "plt.show() "
   ]
  },
  {
   "cell_type": "code",
   "execution_count": 30,
   "id": "lesser-dispatch",
   "metadata": {},
   "outputs": [
    {
     "data": {
      "text/html": [
       "<div>\n",
       "<style scoped>\n",
       "    .dataframe tbody tr th:only-of-type {\n",
       "        vertical-align: middle;\n",
       "    }\n",
       "\n",
       "    .dataframe tbody tr th {\n",
       "        vertical-align: top;\n",
       "    }\n",
       "\n",
       "    .dataframe thead th {\n",
       "        text-align: right;\n",
       "    }\n",
       "</style>\n",
       "<table border=\"1\" class=\"dataframe\">\n",
       "  <thead>\n",
       "    <tr style=\"text-align: right;\">\n",
       "      <th></th>\n",
       "      <th>Name</th>\n",
       "      <th>ID</th>\n",
       "      <th>Address</th>\n",
       "      <th>Date</th>\n",
       "      <th>kWh</th>\n",
       "      <th>Public_url</th>\n",
       "      <th>InstallationDate</th>\n",
       "      <th>UID</th>\n",
       "    </tr>\n",
       "  </thead>\n",
       "  <tbody>\n",
       "    <tr>\n",
       "      <th>0</th>\n",
       "      <td>Calgary Fire Hall Headquarters</td>\n",
       "      <td>314106</td>\n",
       "      <td>1212 42 AV SE</td>\n",
       "      <td>2017-09-11 08:00:00</td>\n",
       "      <td>1.130</td>\n",
       "      <td>https://monitoring.solaredge.com/solaredge-web...</td>\n",
       "      <td>2016-11-07</td>\n",
       "      <td>3141062017-09-11 08:00:00</td>\n",
       "    </tr>\n",
       "    <tr>\n",
       "      <th>1</th>\n",
       "      <td>Calgary Fire Hall Headquarters</td>\n",
       "      <td>314106</td>\n",
       "      <td>1212 42 AV SE</td>\n",
       "      <td>2017-09-11 09:00:00</td>\n",
       "      <td>2.340</td>\n",
       "      <td>https://monitoring.solaredge.com/solaredge-web...</td>\n",
       "      <td>2016-11-07</td>\n",
       "      <td>3141062017-09-11 09:00:00</td>\n",
       "    </tr>\n",
       "    <tr>\n",
       "      <th>2</th>\n",
       "      <td>Calgary Fire Hall Headquarters</td>\n",
       "      <td>314106</td>\n",
       "      <td>1212 42 AV SE</td>\n",
       "      <td>2017-09-11 10:00:00</td>\n",
       "      <td>3.656</td>\n",
       "      <td>https://monitoring.solaredge.com/solaredge-web...</td>\n",
       "      <td>2016-11-07</td>\n",
       "      <td>3141062017-09-11 10:00:00</td>\n",
       "    </tr>\n",
       "    <tr>\n",
       "      <th>3</th>\n",
       "      <td>Calgary Fire Hall Headquarters</td>\n",
       "      <td>314106</td>\n",
       "      <td>1212 42 AV SE</td>\n",
       "      <td>2017-09-11 11:00:00</td>\n",
       "      <td>4.577</td>\n",
       "      <td>https://monitoring.solaredge.com/solaredge-web...</td>\n",
       "      <td>2016-11-07</td>\n",
       "      <td>3141062017-09-11 11:00:00</td>\n",
       "    </tr>\n",
       "    <tr>\n",
       "      <th>4</th>\n",
       "      <td>Calgary Fire Hall Headquarters</td>\n",
       "      <td>314106</td>\n",
       "      <td>1212 42 AV SE</td>\n",
       "      <td>2017-09-11 12:00:00</td>\n",
       "      <td>6.506</td>\n",
       "      <td>https://monitoring.solaredge.com/solaredge-web...</td>\n",
       "      <td>2016-11-07</td>\n",
       "      <td>3141062017-09-11 12:00:00</td>\n",
       "    </tr>\n",
       "  </tbody>\n",
       "</table>\n",
       "</div>"
      ],
      "text/plain": [
       "                             Name      ID        Address                Date  \\\n",
       "0  Calgary Fire Hall Headquarters  314106  1212 42 AV SE 2017-09-11 08:00:00   \n",
       "1  Calgary Fire Hall Headquarters  314106  1212 42 AV SE 2017-09-11 09:00:00   \n",
       "2  Calgary Fire Hall Headquarters  314106  1212 42 AV SE 2017-09-11 10:00:00   \n",
       "3  Calgary Fire Hall Headquarters  314106  1212 42 AV SE 2017-09-11 11:00:00   \n",
       "4  Calgary Fire Hall Headquarters  314106  1212 42 AV SE 2017-09-11 12:00:00   \n",
       "\n",
       "     kWh                                         Public_url InstallationDate  \\\n",
       "0  1.130  https://monitoring.solaredge.com/solaredge-web...       2016-11-07   \n",
       "1  2.340  https://monitoring.solaredge.com/solaredge-web...       2016-11-07   \n",
       "2  3.656  https://monitoring.solaredge.com/solaredge-web...       2016-11-07   \n",
       "3  4.577  https://monitoring.solaredge.com/solaredge-web...       2016-11-07   \n",
       "4  6.506  https://monitoring.solaredge.com/solaredge-web...       2016-11-07   \n",
       "\n",
       "                         UID  \n",
       "0  3141062017-09-11 08:00:00  \n",
       "1  3141062017-09-11 09:00:00  \n",
       "2  3141062017-09-11 10:00:00  \n",
       "3  3141062017-09-11 11:00:00  \n",
       "4  3141062017-09-11 12:00:00  "
      ]
     },
     "execution_count": 30,
     "metadata": {},
     "output_type": "execute_result"
    }
   ],
   "source": [
    "solar_df.head()"
   ]
  },
  {
   "cell_type": "code",
   "execution_count": 31,
   "id": "individual-sacrifice",
   "metadata": {},
   "outputs": [
    {
     "data": {
      "text/html": [
       "<div>\n",
       "<style scoped>\n",
       "    .dataframe tbody tr th:only-of-type {\n",
       "        vertical-align: middle;\n",
       "    }\n",
       "\n",
       "    .dataframe tbody tr th {\n",
       "        vertical-align: top;\n",
       "    }\n",
       "\n",
       "    .dataframe thead th {\n",
       "        text-align: right;\n",
       "    }\n",
       "</style>\n",
       "<table border=\"1\" class=\"dataframe\">\n",
       "  <thead>\n",
       "    <tr style=\"text-align: right;\">\n",
       "      <th></th>\n",
       "      <th>Hour</th>\n",
       "      <th>Day</th>\n",
       "      <th>Month</th>\n",
       "      <th>Year</th>\n",
       "      <th>kWh</th>\n",
       "    </tr>\n",
       "  </thead>\n",
       "  <tbody>\n",
       "    <tr>\n",
       "      <th>Hour</th>\n",
       "      <td>1.000000</td>\n",
       "      <td>0.005002</td>\n",
       "      <td>-0.012736</td>\n",
       "      <td>0.003375</td>\n",
       "      <td>0.006343</td>\n",
       "    </tr>\n",
       "    <tr>\n",
       "      <th>Day</th>\n",
       "      <td>0.005002</td>\n",
       "      <td>1.000000</td>\n",
       "      <td>-0.040643</td>\n",
       "      <td>-0.018187</td>\n",
       "      <td>0.011845</td>\n",
       "    </tr>\n",
       "    <tr>\n",
       "      <th>Month</th>\n",
       "      <td>-0.012736</td>\n",
       "      <td>-0.040643</td>\n",
       "      <td>1.000000</td>\n",
       "      <td>-0.122328</td>\n",
       "      <td>-0.028216</td>\n",
       "    </tr>\n",
       "    <tr>\n",
       "      <th>Year</th>\n",
       "      <td>0.003375</td>\n",
       "      <td>-0.018187</td>\n",
       "      <td>-0.122328</td>\n",
       "      <td>1.000000</td>\n",
       "      <td>-0.019147</td>\n",
       "    </tr>\n",
       "    <tr>\n",
       "      <th>kWh</th>\n",
       "      <td>0.006343</td>\n",
       "      <td>0.011845</td>\n",
       "      <td>-0.028216</td>\n",
       "      <td>-0.019147</td>\n",
       "      <td>1.000000</td>\n",
       "    </tr>\n",
       "  </tbody>\n",
       "</table>\n",
       "</div>"
      ],
      "text/plain": [
       "           Hour       Day     Month      Year       kWh\n",
       "Hour   1.000000  0.005002 -0.012736  0.003375  0.006343\n",
       "Day    0.005002  1.000000 -0.040643 -0.018187  0.011845\n",
       "Month -0.012736 -0.040643  1.000000 -0.122328 -0.028216\n",
       "Year   0.003375 -0.018187 -0.122328  1.000000 -0.019147\n",
       "kWh    0.006343  0.011845 -0.028216 -0.019147  1.000000"
      ]
     },
     "execution_count": 31,
     "metadata": {},
     "output_type": "execute_result"
    }
   ],
   "source": [
    "solar_df['Hour'] = solar_df['Date'].dt.hour #erstellt eine neue Spalte\n",
    "solar_df['Day'] = solar_df['Date'].dt.day #erstellt eine neue Spalte\n",
    "solar_df['Month'] = solar_df['Date'].dt.month #erstellt eine neue Spalte\n",
    "solar_df['Year'] = solar_df['Date'].dt.year #erstellt eine neue Spalte\n",
    "\n",
    "\n",
    "solar_df_corr = solar_df[['Hour','Day','Month','Year','kWh']].corr()\n",
    "solar_df_corr"
   ]
  },
  {
   "cell_type": "code",
   "execution_count": 32,
   "id": "surface-investigation",
   "metadata": {
    "scrolled": false
   },
   "outputs": [
    {
     "data": {
      "text/plain": [
       "<AxesSubplot:>"
      ]
     },
     "execution_count": 32,
     "metadata": {},
     "output_type": "execute_result"
    },
    {
     "data": {
      "image/png": "[encoded data removed]",
      "text/plain": [
       "<Figure size 432x288 with 2 Axes>"
      ]
     },
     "metadata": {
      "needs_background": "light"
     },
     "output_type": "display_data"
    }
   ],
   "source": [
    "sns.heatmap(solar_df_corr, annot=True) #Heatmap correlation"
   ]
  },
  {
   "cell_type": "code",
   "execution_count": 33,
   "id": "proof-rainbow",
   "metadata": {},
   "outputs": [
    {
     "data": {
      "text/html": [
       "<div>\n",
       "<style scoped>\n",
       "    .dataframe tbody tr th:only-of-type {\n",
       "        vertical-align: middle;\n",
       "    }\n",
       "\n",
       "    .dataframe tbody tr th {\n",
       "        vertical-align: top;\n",
       "    }\n",
       "\n",
       "    .dataframe thead th {\n",
       "        text-align: right;\n",
       "    }\n",
       "</style>\n",
       "<table border=\"1\" class=\"dataframe\">\n",
       "  <thead>\n",
       "    <tr style=\"text-align: right;\">\n",
       "      <th></th>\n",
       "      <th>Name</th>\n",
       "      <th>ID</th>\n",
       "      <th>Address</th>\n",
       "      <th>Date</th>\n",
       "      <th>kWh</th>\n",
       "      <th>Public_url</th>\n",
       "      <th>InstallationDate</th>\n",
       "      <th>UID</th>\n",
       "      <th>Hour</th>\n",
       "      <th>Day</th>\n",
       "      <th>Month</th>\n",
       "      <th>Year</th>\n",
       "    </tr>\n",
       "  </thead>\n",
       "  <tbody>\n",
       "    <tr>\n",
       "      <th>0</th>\n",
       "      <td>Calgary Fire Hall Headquarters</td>\n",
       "      <td>314106</td>\n",
       "      <td>1212 42 AV SE</td>\n",
       "      <td>2017-09-11 08:00:00</td>\n",
       "      <td>1.130</td>\n",
       "      <td>https://monitoring.solaredge.com/solaredge-web...</td>\n",
       "      <td>2016-11-07</td>\n",
       "      <td>3141062017-09-11 08:00:00</td>\n",
       "      <td>8</td>\n",
       "      <td>11</td>\n",
       "      <td>9</td>\n",
       "      <td>2017</td>\n",
       "    </tr>\n",
       "    <tr>\n",
       "      <th>1</th>\n",
       "      <td>Calgary Fire Hall Headquarters</td>\n",
       "      <td>314106</td>\n",
       "      <td>1212 42 AV SE</td>\n",
       "      <td>2017-09-11 09:00:00</td>\n",
       "      <td>2.340</td>\n",
       "      <td>https://monitoring.solaredge.com/solaredge-web...</td>\n",
       "      <td>2016-11-07</td>\n",
       "      <td>3141062017-09-11 09:00:00</td>\n",
       "      <td>9</td>\n",
       "      <td>11</td>\n",
       "      <td>9</td>\n",
       "      <td>2017</td>\n",
       "    </tr>\n",
       "    <tr>\n",
       "      <th>2</th>\n",
       "      <td>Calgary Fire Hall Headquarters</td>\n",
       "      <td>314106</td>\n",
       "      <td>1212 42 AV SE</td>\n",
       "      <td>2017-09-11 10:00:00</td>\n",
       "      <td>3.656</td>\n",
       "      <td>https://monitoring.solaredge.com/solaredge-web...</td>\n",
       "      <td>2016-11-07</td>\n",
       "      <td>3141062017-09-11 10:00:00</td>\n",
       "      <td>10</td>\n",
       "      <td>11</td>\n",
       "      <td>9</td>\n",
       "      <td>2017</td>\n",
       "    </tr>\n",
       "    <tr>\n",
       "      <th>3</th>\n",
       "      <td>Calgary Fire Hall Headquarters</td>\n",
       "      <td>314106</td>\n",
       "      <td>1212 42 AV SE</td>\n",
       "      <td>2017-09-11 11:00:00</td>\n",
       "      <td>4.577</td>\n",
       "      <td>https://monitoring.solaredge.com/solaredge-web...</td>\n",
       "      <td>2016-11-07</td>\n",
       "      <td>3141062017-09-11 11:00:00</td>\n",
       "      <td>11</td>\n",
       "      <td>11</td>\n",
       "      <td>9</td>\n",
       "      <td>2017</td>\n",
       "    </tr>\n",
       "    <tr>\n",
       "      <th>4</th>\n",
       "      <td>Calgary Fire Hall Headquarters</td>\n",
       "      <td>314106</td>\n",
       "      <td>1212 42 AV SE</td>\n",
       "      <td>2017-09-11 12:00:00</td>\n",
       "      <td>6.506</td>\n",
       "      <td>https://monitoring.solaredge.com/solaredge-web...</td>\n",
       "      <td>2016-11-07</td>\n",
       "      <td>3141062017-09-11 12:00:00</td>\n",
       "      <td>12</td>\n",
       "      <td>11</td>\n",
       "      <td>9</td>\n",
       "      <td>2017</td>\n",
       "    </tr>\n",
       "  </tbody>\n",
       "</table>\n",
       "</div>"
      ],
      "text/plain": [
       "                             Name      ID        Address                Date  \\\n",
       "0  Calgary Fire Hall Headquarters  314106  1212 42 AV SE 2017-09-11 08:00:00   \n",
       "1  Calgary Fire Hall Headquarters  314106  1212 42 AV SE 2017-09-11 09:00:00   \n",
       "2  Calgary Fire Hall Headquarters  314106  1212 42 AV SE 2017-09-11 10:00:00   \n",
       "3  Calgary Fire Hall Headquarters  314106  1212 42 AV SE 2017-09-11 11:00:00   \n",
       "4  Calgary Fire Hall Headquarters  314106  1212 42 AV SE 2017-09-11 12:00:00   \n",
       "\n",
       "     kWh                                         Public_url InstallationDate  \\\n",
       "0  1.130  https://monitoring.solaredge.com/solaredge-web...       2016-11-07   \n",
       "1  2.340  https://monitoring.solaredge.com/solaredge-web...       2016-11-07   \n",
       "2  3.656  https://monitoring.solaredge.com/solaredge-web...       2016-11-07   \n",
       "3  4.577  https://monitoring.solaredge.com/solaredge-web...       2016-11-07   \n",
       "4  6.506  https://monitoring.solaredge.com/solaredge-web...       2016-11-07   \n",
       "\n",
       "                         UID  Hour  Day  Month  Year  \n",
       "0  3141062017-09-11 08:00:00     8   11      9  2017  \n",
       "1  3141062017-09-11 09:00:00     9   11      9  2017  \n",
       "2  3141062017-09-11 10:00:00    10   11      9  2017  \n",
       "3  3141062017-09-11 11:00:00    11   11      9  2017  \n",
       "4  3141062017-09-11 12:00:00    12   11      9  2017  "
      ]
     },
     "execution_count": 33,
     "metadata": {},
     "output_type": "execute_result"
    }
   ],
   "source": [
    "solar_df.head()"
   ]
  },
  {
   "cell_type": "code",
   "execution_count": 34,
   "id": "green-alliance",
   "metadata": {},
   "outputs": [
    {
     "name": "stderr",
     "output_type": "stream",
     "text": [
      "C:\\Users\\Aylin\\anaconda3\\lib\\site-packages\\seaborn\\_decorators.py:36: FutureWarning: Pass the following variable as a keyword arg: x. From version 0.12, the only valid positional argument will be `data`, and passing other arguments without an explicit keyword will result in an error or misinterpretation.\n",
      "  warnings.warn(\n"
     ]
    },
    {
     "data": {
      "text/plain": [
       "<AxesSubplot:xlabel='Hour', ylabel='count'>"
      ]
     },
     "execution_count": 34,
     "metadata": {},
     "output_type": "execute_result"
    },
    {
     "data": {
      "image/png": "[encoded data removed]",
      "text/plain": [
       "<Figure size 432x288 with 1 Axes>"
      ]
     },
     "metadata": {
      "needs_background": "light"
     },
     "output_type": "display_data"
    }
   ],
   "source": [
    "sns.countplot('Hour',data=solar_df)\n",
    "\n",
    "#die Stromerzeugung per Stunde mit Seaborn"
   ]
  },
  {
   "cell_type": "code",
   "execution_count": 35,
   "id": "special-consequence",
   "metadata": {},
   "outputs": [
    {
     "name": "stderr",
     "output_type": "stream",
     "text": [
      "C:\\Users\\Aylin\\anaconda3\\lib\\site-packages\\seaborn\\_decorators.py:36: FutureWarning: Pass the following variable as a keyword arg: x. From version 0.12, the only valid positional argument will be `data`, and passing other arguments without an explicit keyword will result in an error or misinterpretation.\n",
      "  warnings.warn(\n"
     ]
    },
    {
     "data": {
      "text/plain": [
       "<AxesSubplot:xlabel='Month', ylabel='count'>"
      ]
     },
     "execution_count": 35,
     "metadata": {},
     "output_type": "execute_result"
    },
    {
     "data": {
      "image/png": "[encoded data removed]",
      "text/plain": [
       "<Figure size 432x288 with 1 Axes>"
      ]
     },
     "metadata": {
      "needs_background": "light"
     },
     "output_type": "display_data"
    }
   ],
   "source": [
    "sns.countplot('Month',data=solar_df)\n",
    "\n",
    "#die Stromerzeugung per Month mit Seaborn"
   ]
  },
  {
   "cell_type": "code",
   "execution_count": null,
   "id": "loose-dressing",
   "metadata": {},
   "outputs": [],
   "source": []
  }
 ],
 "metadata": {
  "kernelspec": {
   "display_name": "Python 3",
   "language": "python",
   "name": "python3"
  },
  "language_info": {
   "codemirror_mode": {
    "name": "ipython",
    "version": 3
   },
   "file_extension": ".py",
   "mimetype": "text/x-python",
   "name": "python",
   "nbconvert_exporter": "python",
   "pygments_lexer": "ipython3",
   "version": "3.8.8"
  }
 },
 "nbformat": 4,
 "nbformat_minor": 5
}
